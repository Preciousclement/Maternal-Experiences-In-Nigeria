{
 "cells": [
  {
   "cell_type": "code",
   "execution_count": 5,
   "id": "44578f5d-c317-4b2d-9d70-9882fea0c3f2",
   "metadata": {},
   "outputs": [
    {
     "name": "stdout",
     "output_type": "stream",
     "text": [
      "CSV files generated: nigeria_maternal_demographics_5000.csv, nigeria_pregnancy_experience_5000.csv, nigeria_delivery_postpartum_5000.csv\n"
     ]
    }
   ],
   "source": [
    "import pandas as pd\n",
    "import numpy as np\n",
    "import random\n",
    "\n",
    "np.random.seed(42)\n",
    "random.seed(42)\n",
    "\n",
    "N = 5000\n",
    "\n",
    "states = ['Abia', 'Adamawa', 'Akwa_Ibom', 'Anambra', 'Bauchi', 'Bayelsa', 'Benue', 'Borno', 'Cross_River',\n",
    "          'Delta', 'Ebonyi', 'Edo', 'Ekiti', 'Enugu', 'FCT', 'Gombe', 'Imo', 'Jigawa', 'Kaduna', 'Kano',\n",
    "          'Katsina', 'Kebbi', 'Kogi', 'Kwara', 'Lagos', 'Nasarawa', 'Niger', 'Ogun', 'Ondo', 'Osun', 'Oyo',\n",
    "          'Plateau', 'Rivers', 'Sokoto', 'Taraba', 'Yobe', 'Zamfara']\n",
    "\n",
    "state_weights = [0.02, 0.03, 0.03, 0.03, 0.04, 0.01, 0.04, 0.04, 0.02, 0.03, 0.02, 0.02, 0.01, 0.02, 0.01,\n",
    "                 0.02, 0.03, 0.04, 0.05, 0.08, 0.06, 0.03, 0.02, 0.02, 0.06, 0.02, 0.04, 0.03, 0.02, 0.02,\n",
    "                 0.05, 0.03, 0.04, 0.04, 0.02, 0.03, 0.03]\n",
    "\n",
    "rural_urban = ['Rural', 'Urban']\n",
    "education_levels = ['None', 'Primary', 'Secondary', 'Tertiary']\n",
    "marital_statuses = ['Married', 'Single', 'Widowed', 'Divorced']\n",
    "employment_statuses = ['Informal', 'Unemployed', 'Formal', 'Student']\n",
    "antenatal_qualities = ['Poor', 'Fair', 'Good']\n",
    "cravings_list = ['Yam', 'Pepper_Soup', 'Egusi_Soup', 'Plantain', 'Dates', 'Fruits', 'None',\n",
    "                 'Coke', 'Salad', 'Suya', 'Moi-Moi', 'Bole', 'Jollof_Rice', 'Oat']\n",
    "aversions_list = ['Fish', 'Meat', 'Oil', 'None', 'Eggs', 'Groundnut', 'Fufu']\n",
    "moods = ['Happy', 'Anxious', 'Sad', 'Calm', 'Excited']\n",
    "symptoms_list = ['Nausea', 'Back_Pain', 'Fatigue', 'Swelling']\n",
    "delivery_methods = ['Vaginal', 'C-Section', 'Assisted']\n",
    "delivery_places = ['Hospital', 'Home', 'TBA']\n",
    "complications_list = ['None', 'Hemorrhage', 'Infection', 'Eclampsia']\n",
    "support_list = ['Partner', 'Mother', 'Nurse', 'Doula', 'TBA', 'Sister']\n",
    "baby_healths = ['Healthy', 'Low_Weight', 'Other_Issues']\n",
    "postnatal_care = ['Yes', 'No', 'Unknown']\n",
    "\n",
    "demographics = {\n",
    "'mother_id': [f'M{i:04d}' for i in range(1, N+1)],\n",
    "'age': np.random.normal(25, 5, N).clip(15, 49).astype(int),\n",
    "'state': random.choices(states, weights=state_weights, k=N),\n",
    "'rural_urban': random.choices(rural_urban, weights=[0.5, 0.5], k=N),\n",
    "'education_level': random.choices(education_levels, weights=[0.15, 0.15, 0.4, 0.3], k=N),\n",
    "'marital_status': random.choices(marital_statuses, weights=[0.8, 0.15, 0.03, 0.02], k=N),\n",
    "'employment_status': random.choices(employment_statuses, weights=[0.5, 0.2, 0.2, 0.1], k=N)\n",
    "}\n",
    "demographics_df = pd.DataFrame(demographics)\n",
    "\n",
    "pregnancy = {\n",
    "'mother_id': [f'M{i:04d}' for i in range(1, N+1)],\n",
    "'num_pregnancies': [max(1, int(np.random.poisson(4 if demographics['rural_urban'][i] == 'Rural' else 3))) for i in range(N)],\n",
    "'weeks_at_delivery': [random.choices([random.randint(37, 42), random.randint(34, 36)], weights=[0.95, 0.05])[0] for _ in range(N)],\n",
    "'antenatal_visits': [random.choices(range(9), weights=[0.1, 0.1, 0.1, 0.15, 0.2, 0.15, 0.1, 0.05, 0.05])[0] for _ in range(N)],\n",
    "'antenatal_quality': random.choices(antenatal_qualities, weights=[0.2, 0.4, 0.4], k=N),\n",
    "'cravings': [','.join(random.sample(cravings_list, k=random.randint(1, 2))) for _ in range(N)],\n",
    "'aversions': [','.join(random.sample(aversions_list, k=random.randint(1, 2))) for _ in range(N)],\n",
    "'mood': random.choices(moods, weights=[0.2, 0.2, 0.2, 0.2, 0.2], k=N),\n",
    "'symptoms': [','.join(random.sample(symptoms_list, k=random.randint(0, 3))) for _ in range(N)]\n",
    "}\n",
    "pregnancy_df = pd.DataFrame(pregnancy)\n",
    "\n",
    "delivery = {\n",
    "'mother_id': [f'M{i:04d}' for i in range(1, N+1)],\n",
    "'delivery_method': random.choices(delivery_methods, weights=[0.8, 0.15, 0.05], k=N),\n",
    "'place_of_delivery': random.choices(delivery_places, weights=[0.5, 0.4, 0.1], k=N),\n",
    "'birth_complications': random.choices(complications_list, weights=[0.8, 0.1, 0.05, 0.05], k=N),\n",
    "'support_system': [','.join(random.sample(support_list, k=random.randint(1, 2))) for _ in range(N)],\n",
    "'postpartum_depression': random.choices(['Yes', 'No'], weights=[0.15, 0.85], k=N),\n",
    "'baby_weight_kg': np.random.normal(3.5, 0.5, N).clip(2.0, 4.5).round(1),\n",
    "'baby_health': [],\n",
    "'postnatal_care_access': random.choices(postnatal_care, weights=[0.6, 0.3, 0.1], k=N)\n",
    "}\n",
    "\n",
    "for i in range(N): if delivery['baby_weight_kg'][i] < 2.5: delivery['baby_health'].append('Low_Weight')\n",
    "    else: delivery['baby_health'].append(random.choices(baby_healths, weights=[0.9, 0.05, 0.05])[0])\n",
    "\n",
    "delivery_df = pd.DataFrame(delivery)\n",
    "\n",
    "demographics_df.to_csv('nigeria_maternal_demographics_5000.csv', index=False)\n",
    "pregnancy_df.to_csv('nigeria_pregnancy_experience_5000.csv', index=False)\n",
    "delivery_df.to_csv('nigeria_delivery_postpartum_5000.csv', index=False)\n",
    "\n",
    "print(\"CSV files generated: nigeria_maternal_demographics_5000.csv, nigeria_pregnancy_experience_5000.csv, nigeria_delivery_postpartum_5000.csv\")\n"
   ]
  },
  {
   "cell_type": "code",
   "execution_count": null,
   "id": "9c41dd6e-9f52-49e0-aaa6-1db4b6a865c0",
   "metadata": {},
   "outputs": [],
   "source": []
  },
  {
   "cell_type": "code",
   "execution_count": null,
   "id": "d9011781-a86b-41b0-a345-01dca69bae11",
   "metadata": {},
   "outputs": [],
   "source": []
  }
 ],
 "metadata": {
  "kernelspec": {
   "display_name": "Python [conda env:base] *",
   "language": "python",
   "name": "conda-base-py"
  },
  "language_info": {
   "codemirror_mode": {
    "name": "ipython",
    "version": 3
   },
   "file_extension": ".py",
   "mimetype": "text/x-python",
   "name": "python",
   "nbconvert_exporter": "python",
   "pygments_lexer": "ipython3",
   "version": "3.12.7"
  }
 },
 "nbformat": 4,
 "nbformat_minor": 5
}
